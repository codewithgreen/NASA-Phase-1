{
 "cells": [
  {
   "cell_type": "code",
   "execution_count": 51,
   "id": "bbadeec2",
   "metadata": {},
   "outputs": [
    {
     "name": "stdout",
     "output_type": "stream",
     "text": [
      "Requirement already satisfied: pypdf2 in c:\\users\\aamir aziz\\appdata\\roaming\\python\\python39\\site-packages (2.11.0)"
     ]
    },
    {
     "name": "stderr",
     "output_type": "stream",
     "text": [
      "WARNING: Ignoring invalid distribution -lack (c:\\users\\aamir aziz\\anaconda3\\lib\\site-packages)\n",
      "WARNING: Ignoring invalid distribution -lack (c:\\users\\aamir aziz\\anaconda3\\lib\\site-packages)\n",
      "WARNING: Ignoring invalid distribution -lack (c:\\users\\aamir aziz\\anaconda3\\lib\\site-packages)\n",
      "WARNING: Ignoring invalid distribution -lack (c:\\users\\aamir aziz\\anaconda3\\lib\\site-packages)\n"
     ]
    },
    {
     "name": "stdout",
     "output_type": "stream",
     "text": [
      "\n",
      "Requirement already satisfied: typing-extensions>=3.10.0.0 in c:\\users\\aamir aziz\\appdata\\roaming\\python\\python39\\site-packages (from pypdf2) (4.3.0)\n"
     ]
    }
   ],
   "source": [
    "!pip install pypdf2"
   ]
  },
  {
   "cell_type": "code",
   "execution_count": 57,
   "id": "486e1de8",
   "metadata": {},
   "outputs": [],
   "source": [
    "import PyPDF2 as pdf"
   ]
  },
  {
   "cell_type": "code",
   "execution_count": 58,
   "id": "ac54bf23",
   "metadata": {},
   "outputs": [],
   "source": [
    "file = open('20000025197.pdf','rb')"
   ]
  },
  {
   "cell_type": "code",
   "execution_count": 59,
   "id": "bba8e985",
   "metadata": {},
   "outputs": [],
   "source": [
    "pdf_reader = pdf.PdfFileReader(file)"
   ]
  },
  {
   "cell_type": "code",
   "execution_count": 55,
   "id": "ae0ee952",
   "metadata": {},
   "outputs": [
    {
     "data": {
      "text/plain": [
       "140"
      ]
     },
     "execution_count": 55,
     "metadata": {},
     "output_type": "execute_result"
    }
   ],
   "source": [
    "pdf_reader.getNumPages()"
   ]
  },
  {
   "cell_type": "code",
   "execution_count": 64,
   "id": "6b7eabd4",
   "metadata": {
    "scrolled": false
   },
   "outputs": [
    {
     "name": "stdout",
     "output_type": "stream",
     "text": [
      "<built-in method values of PageObject object at 0x00000174134261D0>\n"
     ]
    }
   ],
   "source": [
    "# pdf_obj =  pdf_reader.getPage(1)\n",
    "text =str(pdf_obj.extractText())\n",
    "print(text)\n",
    "pg_no = pdf_reader.getNumPages()\n",
    "count=0\n",
    "while count < pg_no:\n",
    "#     print(count)\n",
    "    count +=1\n",
    "    txt = pdf_obj.extractText()\n",
    "#     print(txt)\n",
    "    \n",
    "    "
   ]
  },
  {
   "cell_type": "code",
   "execution_count": 69,
   "id": "f8f6a016",
   "metadata": {},
   "outputs": [
    {
     "name": "stdout",
     "output_type": "stream",
     "text": [
      "NASA STI Program ... in Profile \n",
      " \n",
      " \n",
      "Since its founding, NASA has been dedicated \n",
      "to the advancement of aeronautics and space \n",
      "science. The NASA scientific and technical \n",
      "information (STI) program plays a key part in \n",
      "helping NASA maintain this important role. \n",
      "The NASA STI program operates under the \n",
      "auspices of the Agency Chief Information \n",
      "Officer. It collects, organizes, provides for \n",
      "archiving, and disseminates NASA’s STI. The \n",
      "NASA STI program provides access to the \n",
      "NASA Aeronautics and Space Database and its \n",
      "public interface, the NASA Technical Reports \n",
      "Server, thus providing one of the largest \n",
      "collections of aeronautical and space science \n",
      "STI in the world. Results are published in both \n",
      "non-NASA channels and by NASA in the \n",
      "NASA STI Report Series, which includes th e \n",
      "following report types: \n",
      " TECHNICAL  PUBLICATION. Reports of \n",
      "c\n",
      "ompleted research or a major significant \n",
      "phase of research that present the results of \n",
      "NASA Programs and include extensive data \n",
      "or theoretical analysis. Includes compila-\n",
      "tions of significant scientific and technical \n",
      "data and information deemed to be of \n",
      "continuing reference value. NASA counter-\n",
      "part of peer-reviewed formal professional \n",
      "papers but has less stringent limitations on \n",
      "manuscript length and extent of graphic \n",
      "presentations. \n",
      " TECHNICAL  MEMORANDUM. \n",
      "Scientific and technical findings that are \n",
      "preliminary or of specialized interest,  \n",
      "e.g., quick release reports, working  \n",
      "papers, and bibliographies that contain \n",
      "minimal annotation. Does not contain \n",
      "extensive analysis. \n",
      " CONTRACTOR  REPORT. Scientific and \n",
      "tec\n",
      "hnical findings by NASA-sponsored \n",
      "contractors and grantees.  CONFERENCE  PUBLICATION. \n",
      "Collected papers from scientific and \n",
      "technical conferences, symposia,  \n",
      "seminars, or other meetings sponsored  \n",
      "or co -sponsored by NASA. \n",
      " SPECIAL  PUBLICATION. Scientific, \n",
      "technical, or historical information from \n",
      "NASA programs, projects, and missions, \n",
      "often concerned with subjects having \n",
      "substantial public interest. \n",
      " TECHNICAL  TRANSLATION.  \n",
      "English-language translations of foreign \n",
      "scientific and technical material pertinent to \n",
      "NASA’s mission.  \n",
      "Specialized services also include organizing \n",
      "and publishing research results, distributing \n",
      "specialized research announcements and feeds, \n",
      "providing information desk and personal search \n",
      "support, a\n",
      "nd enabling data exchange services. \n",
      "For more information about the NASA STI \n",
      "program, see the following: \n",
      " Access the NASA STI p rogram home p age \n",
      "at http://www.sti.nasa.gov  \n",
      " E-mail your question to help@sti.nasa.gov  \n",
      " Fax your question to the NASA STI \n",
      "Information Desk at 443 -757-5803  \n",
      " Phone the NASA STI Information Desk at  \n",
      "443-757-5802 \n",
      " Write to:  \n",
      "STI Information Desk \n",
      "NASA Center for AeroSpace Information \n",
      "7115 Standard Drive \n",
      "Hanover, MD 21076-1320\n",
      " \n"
     ]
    }
   ],
   "source": [
    "text =str(pdf_obj.extract_text())\n",
    "print(text)"
   ]
  }
 ],
 "metadata": {
  "kernelspec": {
   "display_name": "Python 3 (ipykernel)",
   "language": "python",
   "name": "python3"
  },
  "language_info": {
   "codemirror_mode": {
    "name": "ipython",
    "version": 3
   },
   "file_extension": ".py",
   "mimetype": "text/x-python",
   "name": "python",
   "nbconvert_exporter": "python",
   "pygments_lexer": "ipython3",
   "version": "3.9.7"
  }
 },
 "nbformat": 4,
 "nbformat_minor": 5
}
